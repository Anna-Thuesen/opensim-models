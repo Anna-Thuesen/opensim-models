{
  "nbformat": 4,
  "nbformat_minor": 0,
  "metadata": {
    "colab": {
      "provenance": [],
      "collapsed_sections": []
    },
    "kernelspec": {
      "name": "python3",
      "display_name": "Python 3"
    },
    "language_info": {
      "name": "python"
    }
  },
  "cells": [
    {
      "cell_type": "markdown",
      "source": [
        "# 5. Scaling, Inverse Kinematics and Inverse Dynamics\n"
      ],
      "metadata": {
        "id": "EhobipLVJg7S"
      }
    },
    {
      "cell_type": "markdown",
      "source": [
        "## 5.1. Objectives"
      ],
      "metadata": {
        "id": "SwX6QwGU0Jwj"
      }
    },
    {
      "cell_type": "markdown",
      "source": [
        "**Purpose**\n",
        "\n",
        "The purpose of this tutorial is to demonstrate how [OpenSim](https://opensim.stanford.edu/) [[1]](https://doi.org/10.1109/TBME.2007.901024) can be used to Scale a model, and then solve Inverse Kinematics (IK) and Inverse Dynamics (ID) problems using experimental data. To diagnose movement disorders and study human movement, biomechanists frequently ask human subjects to perform movements in a motion capture laboratory and use computational tools to analyze these movements. A common step in analyzing a movement is to compute the joint angles and joint moments of the subject during movement. OpenSim has tools for computing these quantities:\n",
        "\n",
        "*   Inverse kinematics is used to compute joint angles.\n",
        "*   Inverse dynamics is used to compute net joint reaction forces and net joint moments.\n",
        "\n",
        "![Inverse Kinematics and Dynamics.png](data:image/png;base64,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)\n",
        "\n",
        "Inverse Kinematics computes the joint angles for a musculoskeletal model that best reproduce the motion of a subject. Inverse Dynamics then use joint angles, angular velocities, and angular accelerations of the model, together with the experimental ground reaction forces and moments, to solve for the net reaction forces and net moments at each of the joints. The schematic above shows an overview of the inverse kinematics and inverse dynamics problems.\n",
        "\n",
        "In this tutorial, you will:\n",
        "\n",
        "*   Become familiar with OpenSim's Scale, Inverse Kinematics and Inverse Dynamics tools.\n",
        "*   Solve an Inverse Kinematics and an Inverse Dynamics problem using experimental data.\n",
        "*   Investigate the dynamic inconsistencies that arise during Inverse Dynamics.\n",
        "\n",
        "**Format**\n",
        "\n",
        "Each section of the tutorial guides you through certain tools within OpenSim and asks you to answer a few questions. The questions can be answered based on information from OpenSim and basic knowledge of the human musculoskeletal system. As you complete each section of the tutorial, feel free to explore OpenSim and the lower extremity model further on your own."
      ],
      "metadata": {
        "id": "4p_3qlB60Np3"
      }
    },
    {
      "cell_type": "markdown",
      "source": [
        "## 5.2. Setup Conda and OpenSim"
      ],
      "metadata": {
        "id": "ADllcxbsjTr8"
      }
    },
    {
      "cell_type": "markdown",
      "source": [
        "First, set up the environment by executing the following cell (See ***Tutorial 1: Introduction to OpenSim in Colab***)."
      ],
      "metadata": {
        "id": "mmmTuEI4HQJG"
      }
    },
    {
      "cell_type": "code",
      "execution_count": null,
      "metadata": {
        "colab": {
          "base_uri": "https://localhost:8080/"
        },
        "outputId": "d96b772c-0c82-429c-df4f-1719aed49c34",
        "id": "0w9LYQXx5TO4"
      },
      "outputs": [
        {
          "output_type": "stream",
          "name": "stdout",
          "text": [
            "⏬ Downloading https://github.com/jaimergp/miniforge/releases/latest/download/Mambaforge-colab-Linux-x86_64.sh...\n",
            "📦 Installing...\n",
            "📌 Adjusting configuration...\n",
            "🩹 Patching environment...\n",
            "⏲ Done in 0:00:27\n",
            "🔁 Restarting kernel...\n"
          ]
        }
      ],
      "source": [
        "!pip install -q condacolab\n",
        "import condacolab\n",
        "condacolab.install()"
      ]
    },
    {
      "cell_type": "markdown",
      "source": [
        "Now, let's install the OpenSim conda package."
      ],
      "metadata": {
        "id": "cNHGuMza5TO4"
      }
    },
    {
      "cell_type": "code",
      "source": [
        "!conda install -c opensim-org opensim"
      ],
      "metadata": {
        "id": "vWf9ObZJ5TO5",
        "colab": {
          "base_uri": "https://localhost:8080/"
        },
        "outputId": "1834ae53-42e6-48eb-95ba-6c9492330b24"
      },
      "execution_count": null,
      "outputs": [
        {
          "output_type": "stream",
          "name": "stdout",
          "text": [
            "Collecting package metadata (current_repodata.json): - \b\b\\ \b\b| \b\b/ \b\b- \b\b\\ \b\b| \b\b/ \b\b- \b\b\\ \b\b| \b\b/ \b\b- \b\b\\ \b\b| \b\b/ \b\b- \b\b\\ \b\b| \b\b/ \b\b- \b\b\\ \b\b| \b\b/ \b\b- \b\b\\ \b\b| \b\b/ \b\b- \b\b\\ \b\b| \b\b/ \b\b- \b\b\\ \b\b| \b\b/ \b\b- \b\b\\ \b\b| \b\b/ \b\b- \b\b\\ \b\b| \b\b/ \b\b- \b\b\\ \b\b| \b\b/ \b\b- \b\b\\ \b\b| \b\b/ \b\b- \b\b\\ \b\b| \b\b/ \b\b- \b\b\\ \b\b| \b\b/ \b\b- \b\b\\ \b\b| \b\b/ \b\b- \b\b\\ \b\b| \b\b/ \b\b- \b\b\\ \b\b| \b\b/ \b\b- \b\b\\ \b\b| \b\b/ \b\b- \b\b\\ \b\b| \b\b/ \b\b- \b\b\\ \b\b| \b\b/ \b\b- \b\b\\ \b\b| \b\b/ \b\b- \b\b\\ \b\b| \b\b/ \b\b- \b\b\\ \b\b| \b\b/ \b\b- \b\b\\ \b\b| \b\b/ \b\b- \b\b\\ \b\b| \b\b/ \b\b- \b\b\\ \b\b| \b\b/ \b\b- \b\b\\ \b\b| \b\b/ \b\b- \b\b\\ \b\b| \b\b/ \b\b- \b\b\\ \b\b| \b\b/ \b\b- \b\b\\ \b\b| \b\b/ \b\b- \b\b\\ \b\b| \b\b/ \b\b- \b\b\\ \b\b| \b\b/ \b\b- \b\b\\ \b\b| \b\b/ \b\b- \b\b\\ \b\b| \b\b/ \b\bdone\n",
            "Solving environment: \\ \b\b| \b\b/ \b\b- \b\b\\ \b\b| \b\b/ \b\b- \b\b\\ \b\b| \b\b/ \b\b- \b\b\\ \b\b| \b\b/ \b\b- \b\b\\ \b\b| \b\b/ \b\b- \b\b\\ \b\b| \b\b/ \b\b- \b\b\\ \b\b| \b\b/ \b\b- \b\b\\ \b\b| \b\b/ \b\b- \b\bdone\n",
            "\n",
            "## Package Plan ##\n",
            "\n",
            "  environment location: /usr/local\n",
            "\n",
            "  added / updated specs:\n",
            "    - opensim\n",
            "\n",
            "\n",
            "The following packages will be downloaded:\n",
            "\n",
            "    package                    |            build\n",
            "    ---------------------------|-----------------\n",
            "    ca-certificates-2022.9.24  |       ha878542_0         150 KB  conda-forge\n",
            "    certifi-2022.9.24          |     pyhd8ed1ab_0         155 KB  conda-forge\n",
            "    conda-22.9.0               |   py37h89c1867_1         960 KB  conda-forge\n",
            "    libblas-3.9.0              |16_linux64_openblas          13 KB  conda-forge\n",
            "    libcblas-3.9.0             |16_linux64_openblas          13 KB  conda-forge\n",
            "    libgfortran-ng-12.1.0      |      h69a702a_16          23 KB  conda-forge\n",
            "    libgfortran5-12.1.0        |      hdcd56e2_16         1.8 MB  conda-forge\n",
            "    liblapack-3.9.0            |16_linux64_openblas          13 KB  conda-forge\n",
            "    libopenblas-0.3.21         |pthreads_h78a6416_3        10.1 MB  conda-forge\n",
            "    numpy-1.21.6               |   py37h976b520_0         6.1 MB  conda-forge\n",
            "    openblas-0.3.21            |pthreads_h320a7e8_3        10.8 MB  conda-forge\n",
            "    opensim-4.4                |        py37np120        68.7 MB  opensim-org\n",
            "    ------------------------------------------------------------\n",
            "                                           Total:        98.8 MB\n",
            "\n",
            "The following NEW packages will be INSTALLED:\n",
            "\n",
            "  libblas            conda-forge/linux-64::libblas-3.9.0-16_linux64_openblas\n",
            "  libcblas           conda-forge/linux-64::libcblas-3.9.0-16_linux64_openblas\n",
            "  libgfortran-ng     conda-forge/linux-64::libgfortran-ng-12.1.0-h69a702a_16\n",
            "  libgfortran5       conda-forge/linux-64::libgfortran5-12.1.0-hdcd56e2_16\n",
            "  liblapack          conda-forge/linux-64::liblapack-3.9.0-16_linux64_openblas\n",
            "  libopenblas        conda-forge/linux-64::libopenblas-0.3.21-pthreads_h78a6416_3\n",
            "  numpy              conda-forge/linux-64::numpy-1.21.6-py37h976b520_0\n",
            "  openblas           conda-forge/linux-64::openblas-0.3.21-pthreads_h320a7e8_3\n",
            "  opensim            opensim-org/linux-64::opensim-4.4-py37np120\n",
            "\n",
            "The following packages will be UPDATED:\n",
            "\n",
            "  ca-certificates                      2022.6.15-ha878542_0 --> 2022.9.24-ha878542_0\n",
            "  certifi            conda-forge/linux-64::certifi-2022.6.~ --> conda-forge/noarch::certifi-2022.9.24-pyhd8ed1ab_0\n",
            "  conda                               4.14.0-py37h89c1867_0 --> 22.9.0-py37h89c1867_1\n",
            "\n",
            "\n",
            "\n",
            "Downloading and Extracting Packages\n",
            "libopenblas-0.3.21   | 10.1 MB   | : 100% 1.0/1 [00:02<00:00,  2.20s/it]\n",
            "liblapack-3.9.0      | 13 KB     | : 100% 1.0/1 [00:00<00:00, 19.81it/s]\n",
            "openblas-0.3.21      | 10.8 MB   | : 100% 1.0/1 [00:03<00:00,  3.03s/it]              \n",
            "conda-22.9.0         | 960 KB    | : 100% 1.0/1 [00:00<00:00,  2.91it/s]\n",
            "libblas-3.9.0        | 13 KB     | : 100% 1.0/1 [00:00<00:00, 19.17it/s]\n",
            "opensim-4.4          | 68.7 MB   | : 100% 1.0/1 [00:13<00:00, 13.80s/it]\n",
            "libgfortran-ng-12.1. | 23 KB     | : 100% 1.0/1 [00:00<00:00, 15.74it/s]\n",
            "ca-certificates-2022 | 150 KB    | : 100% 1.0/1 [00:00<00:00, 13.96it/s]\n",
            "libcblas-3.9.0       | 13 KB     | : 100% 1.0/1 [00:00<00:00, 20.97it/s]\n",
            "numpy-1.21.6         | 6.1 MB    | : 100% 1.0/1 [00:01<00:00,  1.62s/it]               \n",
            "libgfortran5-12.1.0  | 1.8 MB    | : 100% 1.0/1 [00:00<00:00,  2.49it/s]\n",
            "certifi-2022.9.24    | 155 KB    | : 100% 1.0/1 [00:00<00:00, 14.96it/s]\n",
            "Preparing transaction: | \b\b/ \b\bdone\n",
            "Verifying transaction: \\ \b\b| \b\b/ \b\b- \b\b\\ \b\b| \b\b/ \b\b- \b\b\\ \b\b| \b\b/ \b\b- \b\b\\ \b\b| \b\b/ \b\b- \b\b\\ \b\b| \b\bdone\n",
            "Executing transaction: - \b\b\\ \b\b| \b\b/ \b\b- \b\b\\ \b\b| \b\b/ \b\b- \b\b\\ \b\b| \b\b/ \b\b- \b\b\\ \b\b| \b\b/ \b\b- \b\b\\ \b\bdone\n",
            "Retrieving notices: ...working... done\n"
          ]
        }
      ]
    },
    {
      "cell_type": "markdown",
      "source": [
        "## 5.3. Scaling a Musculoskeletal Model"
      ],
      "metadata": {
        "id": "51viyamRzzZK"
      }
    },
    {
      "cell_type": "markdown",
      "source": [
        "In this tutorial, you will be using a generic musculoskeletal model with 23 degrees of freedom and actuated by 54 muscles entitled 3DGaitModel2354 [[2]](https://doi.org/10.1109/10.102791) [[3]](https://doi.org/10.1080/10255849908907988).\n",
        "Note: Detailed information about the model can found on the [Gait2392 and 2354 Models](https://simtk-confluence.stanford.edu:8443/display/OpenSim/Gait+2392+and+2354+Models) page."
      ],
      "metadata": {
        "id": "Z9iDkg-QVVhm"
      }
    },
    {
      "cell_type": "markdown",
      "source": [
        "Subject-specific modeling involves (i) scaling a generic musculoskeletal model to modify the anthropometry, or physical dimensions, of the generic model so that it matches the anthropometry of a particular subject and (ii) registering the markers placed on the model to match the locations on the subject. Scaling and Registration are the most important steps in solving inverse kinematics and inverse dynamics problems because IK and ID solutions are sensitive to the accuracy of the scaling and registration."
      ],
      "metadata": {
        "id": "5s5Jso_ozzZN"
      }
    },
    {
      "cell_type": "markdown",
      "source": [
        "A detailed explanation of the Scale Tool can be found on the [Scaling page](https://simtk-confluence.stanford.edu:8443/display/OpenSim/Scaling) of the documentation."
      ],
      "metadata": {
        "id": "-0nVeiJAXruu"
      }
    },
    {
      "cell_type": "markdown",
      "source": [
        "**Download Files**\n",
        "\n",
        "First, let's download the model file (gait2354_simbody.osim) from Google Drive."
      ],
      "metadata": {
        "id": "TIQp3TtGYMyQ"
      }
    },
    {
      "cell_type": "code",
      "source": [
        "!gdown 1Yx2FnMYRRcass9UEuGeVu1VYtZuzzWC2"
      ],
      "metadata": {
        "colab": {
          "base_uri": "https://localhost:8080/"
        },
        "id": "EAb6JtzeYObU",
        "outputId": "840710e0-dddb-488b-ddae-65c562db47b7"
      },
      "execution_count": null,
      "outputs": [
        {
          "output_type": "stream",
          "name": "stdout",
          "text": [
            "Downloading...\n",
            "From: https://drive.google.com/uc?id=1Yx2FnMYRRcass9UEuGeVu1VYtZuzzWC2\n",
            "To: /content/gait2354_simbody.osim\n",
            "\r  0% 0.00/333k [00:00<?, ?B/s]\r100% 333k/333k [00:00<00:00, 104MB/s]\n"
          ]
        }
      ]
    },
    {
      "cell_type": "markdown",
      "source": [
        "Load the model into OpenSim. To test that the file has been downloaded correctly, let's print its name."
      ],
      "metadata": {
        "id": "bjlOR8fym2Pl"
      }
    },
    {
      "cell_type": "code",
      "source": [
        "import opensim as osim\n",
        "\n",
        "# Load the model.\n",
        "gait2354 = osim.Model('gait2354_simbody.osim')\n",
        "print(\"Name of the model:\", gait2354.getName())"
      ],
      "metadata": {
        "colab": {
          "base_uri": "https://localhost:8080/"
        },
        "id": "oGTQE8Azh6p8",
        "outputId": "5bd987c2-6f9f-47b6-9bf1-12646df47231"
      },
      "execution_count": null,
      "outputs": [
        {
          "output_type": "stream",
          "name": "stdout",
          "text": [
            "Name of the model: 3DGaitModel2354\n"
          ]
        }
      ]
    },
    {
      "cell_type": "markdown",
      "source": [
        "To Scale the model, we are going to use a configuration file (gait2354_Setup_Scale.xml). This Scale Setup file is an xml file that contains pre-configured settings to scale and register the generic gait2354 musculoskeletal model to the dimensions of a subject that we have experimental data for. A detailed explanation of the Scale Tool can be found on the [Scaling](https://simtk-confluence.stanford.edu:8443/display/OpenSim/Scaling) page of the documentation. The following cell downloads the file."
      ],
      "metadata": {
        "id": "-ooHO9m13zen"
      }
    },
    {
      "cell_type": "code",
      "source": [
        "!gdown 1sA7Oy1IACT7AC6hugkSgLVG4qextVRXV"
      ],
      "metadata": {
        "colab": {
          "base_uri": "https://localhost:8080/"
        },
        "id": "1ojzW5C2iHki",
        "outputId": "ffa7e0a2-e096-4420-88d5-09bc82e4b26d"
      },
      "execution_count": null,
      "outputs": [
        {
          "output_type": "stream",
          "name": "stdout",
          "text": [
            "Downloading...\n",
            "From: https://drive.google.com/uc?id=1sA7Oy1IACT7AC6hugkSgLVG4qextVRXV\n",
            "To: /content/gait2354_Setup_Scale.xml\n",
            "\r  0% 0.00/31.2k [00:00<?, ?B/s]\r100% 31.2k/31.2k [00:00<00:00, 38.0MB/s]\n"
          ]
        }
      ]
    },
    {
      "cell_type": "markdown",
      "source": [
        "We also need to download the MarketSet file (gait2354_Scale_MarkerSet.xml), which defines the position of the markers used when capturing the motion and dimensions of the subject."
      ],
      "metadata": {
        "id": "jg5Pu8k_7osp"
      }
    },
    {
      "cell_type": "code",
      "source": [
        "!gdown 1A51LoChvudI4j1Cg_6qj2Kw6e5gEmLT0"
      ],
      "metadata": {
        "colab": {
          "base_uri": "https://localhost:8080/"
        },
        "outputId": "6d24cec5-bd47-4bfd-d2ab-95f32747dce9",
        "id": "u2MecrQliXiK"
      },
      "execution_count": null,
      "outputs": [
        {
          "output_type": "stream",
          "name": "stdout",
          "text": [
            "Downloading...\n",
            "From: https://drive.google.com/uc?id=1A51LoChvudI4j1Cg_6qj2Kw6e5gEmLT0\n",
            "To: /content/gait2354_Scale_MarkerSet.xml\n",
            "\r  0% 0.00/55.2k [00:00<?, ?B/s]\r100% 55.2k/55.2k [00:00<00:00, 52.8MB/s]\n"
          ]
        }
      ]
    },
    {
      "cell_type": "markdown",
      "source": [
        "Finally, we need a marker file (subject01_static.trc) which provides information about the position of the markers during a motion trial. In this case, we download a file with information of the user in a static pose."
      ],
      "metadata": {
        "id": "wqFikw-zPau0"
      }
    },
    {
      "cell_type": "code",
      "source": [
        "!gdown 1D36gSJWCUR-XgGMN2aQngQSVg9pd5gQf"
      ],
      "metadata": {
        "colab": {
          "base_uri": "https://localhost:8080/"
        },
        "id": "doLIHrRKi1KU",
        "outputId": "6a753263-42e9-4f63-eb4c-b383eed7f9d6"
      },
      "execution_count": null,
      "outputs": [
        {
          "output_type": "stream",
          "name": "stdout",
          "text": [
            "Downloading...\n",
            "From: https://drive.google.com/uc?id=1D36gSJWCUR-XgGMN2aQngQSVg9pd5gQf\n",
            "To: /content/subject01_static.trc\n",
            "\r  0% 0.00/496k [00:00<?, ?B/s]\r100% 496k/496k [00:00<00:00, 125MB/s]\n"
          ]
        }
      ]
    },
    {
      "cell_type": "markdown",
      "source": [
        "**Create Scaler Tool**\n",
        "\n",
        "The Scaler Tool allows to scale a model. We can pass a configuration file as a parameter, so all of the information is already available."
      ],
      "metadata": {
        "id": "k1bbjgNFS8h2"
      }
    },
    {
      "cell_type": "code",
      "source": [
        "# Create a ScaleTool object using the configuration file.\n",
        "scale_tool = osim.ScaleTool('gait2354_Setup_Scale.xml')\n",
        "\n",
        "# Print some information of the config file to test everything is correct.\n",
        "print(\"Name:\", scale_tool.getName())\n",
        "print(\"Subject Mass:\", scale_tool.getSubjectMass())\n",
        "print(\"Subject Height:\", scale_tool.getSubjectHeight())\n",
        "print(\"Notes:\", scale_tool.getPropertyByName(\"notes\").toString())\n",
        "print()\n",
        "\n",
        "# Get model marker file name.\n",
        "generic_model_marker = scale_tool.getGenericModelMaker()\n",
        "print(\"Marker Set File Name:\", generic_model_marker.getMarkerSetFileName())\n",
        "print()\n",
        "\n",
        "# Get marker file name.\n",
        "marker_placer = scale_tool.getMarkerPlacer()\n",
        "print(\"Marker Placer File Name:\", marker_placer.getMarkerFileName())"
      ],
      "metadata": {
        "colab": {
          "base_uri": "https://localhost:8080/"
        },
        "id": "juWpas9abaEf",
        "outputId": "53fc2f48-9367-4bb5-ac85-0f7f26cbc9bf"
      },
      "execution_count": null,
      "outputs": [
        {
          "output_type": "stream",
          "name": "stdout",
          "text": [
            "Name: subject01\n",
            "Subject Mass: 72.6\n",
            "Subject Height: 1803.4\n",
            "Notes: This is an example setup file for scale.exe.\n",
            "\n",
            "Marker Set File Name: gait2354_Scale_MarkerSet.xml\n",
            "\n",
            "Marker Placer File Name: subject01_static.trc\n"
          ]
        }
      ]
    },
    {
      "cell_type": "markdown",
      "source": [
        "**Perform Scaling**\n",
        "\n",
        "Finally, we can scale the model by running the scale tool. You can visualize the resulting model *subject01_simbody.osim* in [OpenSim GUI](https://simtk.org/frs/index.php?group_id=91)."
      ],
      "metadata": {
        "id": "6UoQfXjAJiGk"
      }
    },
    {
      "cell_type": "code",
      "source": [
        "# Run Scale Tool.\n",
        "scale_tool.run()"
      ],
      "metadata": {
        "id": "ISVbNGw-J-6_",
        "colab": {
          "base_uri": "https://localhost:8080/"
        },
        "outputId": "7e749fe6-6161-4f23-9a2e-9eb15156d610"
      },
      "execution_count": null,
      "outputs": [
        {
          "output_type": "execute_result",
          "data": {
            "text/plain": [
              "True"
            ]
          },
          "metadata": {},
          "execution_count": 8
        }
      ]
    },
    {
      "cell_type": "markdown",
      "source": [
        "## 5.4. Inverse Kinematics"
      ],
      "metadata": {
        "id": "ad2kW88oKPaw"
      }
    },
    {
      "cell_type": "markdown",
      "source": [
        "Kinematics is the study of motion without considering the forces and moments that produce that motion [4]. The purpose of inverse kinematics (IK) is to estimate the joint angles of a particular subject from experimental data. In this section, you will estimate a subject's joint angles during walking by performing an IK analysis using the subject scaled model and experimentally collected walking data. \n",
        "\n",
        "For each time step of recorded motion data, IK computes a set of joint angles that put the model in a configuration that \"best matches\" the experimental kinematics. OpenSim determines this \"best match\" by solving a weighted least squares optimization problem with the goal of minimizing marker error. Marker error is defined as the distance between an experimental marker and the corresponding model marker. Each marker has an associated weighting value, specifying how strongly that marker's error term should be minimized in the least squares problem. For each time step, the inverse kinematics tool solves for a vector of generalized coordinates (e.g., joint angles), $q$, that minimizes the weighted sum of marker errors, which is expressed as:\n",
        "\n",
        "$\\underset{q}{min}\\Bigg[ \\sum_{i \\epsilon markers}{w_i || x_i^{exp} - x_i(q) ||^2}^{}\\Bigg] $\n",
        "\n",
        "where $q$ is the vector of generalized coordinates (e.g., joint angles), $x_i^{exp}$ is the position of the experimental marker $i$, $x_i(q)$ is the position of the corresponding model marker $i$ (which depends on $q$), and $w_i$ is the weight associated with marker $i$. "
      ],
      "metadata": {
        "id": "sXZXzssqVmUN"
      }
    },
    {
      "cell_type": "markdown",
      "source": [
        "A detailed explanation of the Inverse Kinematics Tool can be found on the [Inverse Kinematics page](https://simtk-confluence.stanford.edu:8443/display/OpenSim/Inverse+Kinematics) of the documentation."
      ],
      "metadata": {
        "id": "1ATo0wsJX66B"
      }
    },
    {
      "cell_type": "markdown",
      "source": [
        "**Download the files**\n",
        "\n",
        "First, let's download the configuration file for the Inverse Kinematics tool."
      ],
      "metadata": {
        "id": "e2kJm4w-YuMF"
      }
    },
    {
      "cell_type": "markdown",
      "source": [
        "The first file to download is the xml configuration file (subject01_Setup_IK.xml) for the IK tool."
      ],
      "metadata": {
        "id": "AlCIWcl6qXd2"
      }
    },
    {
      "cell_type": "code",
      "source": [
        "!gdown 1eA10HYwolFzjHyPGzgOOmC48wK8ExSdS"
      ],
      "metadata": {
        "colab": {
          "base_uri": "https://localhost:8080/"
        },
        "id": "PoPq74CGj05x",
        "outputId": "79275544-c32a-4de8-a1a3-39faa841f2d9"
      },
      "execution_count": null,
      "outputs": [
        {
          "output_type": "stream",
          "name": "stdout",
          "text": [
            "Downloading...\n",
            "From: https://drive.google.com/uc?id=1eA10HYwolFzjHyPGzgOOmC48wK8ExSdS\n",
            "To: /content/subject01_Setup_IK.xml\n",
            "\r  0% 0.00/13.8k [00:00<?, ?B/s]\r100% 13.8k/13.8k [00:00<00:00, 19.4MB/s]\n"
          ]
        }
      ]
    },
    {
      "cell_type": "markdown",
      "source": [
        "The second file is the marker file (dubject01_walk1.trc), which provides information about the position of the markers during a motion trial."
      ],
      "metadata": {
        "id": "Aw4ARIVvqhuR"
      }
    },
    {
      "cell_type": "code",
      "source": [
        "!gdown 1QvjMuzvU1afgJ9aeCEb1Zgh9XZvo9oz7"
      ],
      "metadata": {
        "colab": {
          "base_uri": "https://localhost:8080/"
        },
        "outputId": "aadb7dd9-1305-4e61-8aff-ce1a78903656",
        "id": "9dJOeVIqj_aX"
      },
      "execution_count": null,
      "outputs": [
        {
          "output_type": "stream",
          "name": "stdout",
          "text": [
            "Downloading...\n",
            "From: https://drive.google.com/uc?id=1QvjMuzvU1afgJ9aeCEb1Zgh9XZvo9oz7\n",
            "To: /content/subject01_walk1.trc\n",
            "\r  0% 0.00/209k [00:00<?, ?B/s]\r100% 209k/209k [00:00<00:00, 75.4MB/s]\n"
          ]
        }
      ]
    },
    {
      "cell_type": "markdown",
      "source": [
        "**Create IK Tool**\n",
        "\n",
        "The IK Tool allows to apply Inverse Kinematics to a model. We can pass a configuration file as a parameter, so all of the information is already available."
      ],
      "metadata": {
        "id": "G6wtd-OJaF6m"
      }
    },
    {
      "cell_type": "code",
      "source": [
        "# Create a ScaleTool object using the configuration file.\n",
        "inverse_kinematics_tool = osim.InverseKinematicsTool('subject01_Setup_IK.xml')\n",
        "\n",
        "# Print some information of the config file to test everything is correct.\n",
        "print(\"Name:\", inverse_kinematics_tool.getName())\n",
        "print(\"Model File:\", inverse_kinematics_tool.get_model_file())\n",
        "print(\"Marker File:\", inverse_kinematics_tool.get_marker_file())\n",
        "print(\"Accuracy:\", inverse_kinematics_tool.get_accuracy())\n",
        "print(\"Time Range: [\", inverse_kinematics_tool.get_time_range(0), \",\", inverse_kinematics_tool.get_time_range(1), \"]\")\n",
        "print(\"Constraint Weight:\", inverse_kinematics_tool.get_constraint_weight())\n",
        "print()\n",
        "\n",
        "# Print weights information\n",
        "print(\"Weights:\")\n",
        "task_set = inverse_kinematics_tool.get_IKTaskSet()\n",
        "for i in range(task_set.getSize()):\n",
        "  task = task_set.get(i)\n",
        "  print(task.getName())\n",
        "  print(task.getWeight())\n",
        "  print()"
      ],
      "metadata": {
        "colab": {
          "base_uri": "https://localhost:8080/"
        },
        "outputId": "4c0d4214-881b-4fa5-d7f9-81d14f622a83",
        "id": "DaP2nPJraF6m"
      },
      "execution_count": null,
      "outputs": [
        {
          "output_type": "stream",
          "name": "stdout",
          "text": [
            "Name: subject01\n",
            "Model File: subject01_simbody.osim\n",
            "Marker File: subject01_walk1.trc\n",
            "Accuracy: 1e-05\n",
            "Time Range: [ 0.4 , 1.6 ]\n",
            "Constraint Weight: 20.0\n",
            "\n",
            "Weights:\n",
            "Sternum\n",
            "1.0\n",
            "\n",
            "R.Acromium\n",
            "0.5\n",
            "\n",
            "L.Acromium\n",
            "0.5\n",
            "\n",
            "Top.Head\n",
            "0.1\n",
            "\n",
            "R.ASIS\n",
            "10.0\n",
            "\n",
            "L.ASIS\n",
            "10.0\n",
            "\n",
            "V.Sacral\n",
            "10.0\n",
            "\n",
            "R.Thigh.Upper\n",
            "1.0\n",
            "\n",
            "R.Thigh.Front\n",
            "1.0\n",
            "\n",
            "R.Thigh.Rear\n",
            "1.0\n",
            "\n",
            "R.Shank.Upper\n",
            "1.0\n",
            "\n",
            "R.Shank.Front\n",
            "1.0\n",
            "\n",
            "R.Shank.Rear\n",
            "1.0\n",
            "\n",
            "R.Heel\n",
            "10.0\n",
            "\n",
            "R.Midfoot.Sup\n",
            "1.0\n",
            "\n",
            "R.Midfoot.Lat\n",
            "1.0\n",
            "\n",
            "R.Toe.Lat\n",
            "1.0\n",
            "\n",
            "R.Toe.Med\n",
            "1.0\n",
            "\n",
            "R.Toe.Tip\n",
            "10.0\n",
            "\n",
            "L.Thigh.Upper\n",
            "1.0\n",
            "\n",
            "L.Thigh.Front\n",
            "1.0\n",
            "\n",
            "L.Thigh.Rear\n",
            "1.0\n",
            "\n",
            "L.Shank.Upper\n",
            "1.0\n",
            "\n",
            "L.Shank.Front\n",
            "1.0\n",
            "\n",
            "L.Shank.Rear\n",
            "1.0\n",
            "\n",
            "L.Heel\n",
            "10.0\n",
            "\n",
            "L.Midfoot.Sup\n",
            "1.0\n",
            "\n",
            "L.Midfoot.Lat\n",
            "1.0\n",
            "\n",
            "L.Toe.Lat\n",
            "1.0\n",
            "\n",
            "L.Toe.Med\n",
            "1.0\n",
            "\n",
            "L.Toe.Tip\n",
            "10.0\n",
            "\n",
            "subtalar_angle_r\n",
            "1000.0\n",
            "\n",
            "mtp_angle_r\n",
            "1000.0\n",
            "\n",
            "subtalar_angle_l\n",
            "1000.0\n",
            "\n",
            "mtp_angle_l\n",
            "1000.0\n",
            "\n"
          ]
        }
      ]
    },
    {
      "cell_type": "markdown",
      "source": [
        "4. Which markers have weighting values less than one? Why?\n",
        "Hint: Think about joints that have not been modeled."
      ],
      "metadata": {
        "id": "_F4VGaDkmW-I"
      }
    },
    {
      "cell_type": "markdown",
      "source": [
        "**Perform Inverse Kinematics**\n",
        "\n",
        "Finally, we can scale the model by running the IK tool. You can visualize the resulting motion file (subject01_simbody.osim) by associating it to the scaled model (subject01_walk1_ik.mot) in [OpenSim GUI](https://simtk.org/frs/index.php?group_id=91)."
      ],
      "metadata": {
        "id": "lm09IBIac8QE"
      }
    },
    {
      "cell_type": "code",
      "source": [
        "inverse_kinematics_tool.run()"
      ],
      "metadata": {
        "colab": {
          "base_uri": "https://localhost:8080/"
        },
        "id": "k6EIzdm9dEEx",
        "outputId": "a04e33c7-6e28-46c6-c101-c9fd4d6cdaca"
      },
      "execution_count": null,
      "outputs": [
        {
          "output_type": "execute_result",
          "data": {
            "text/plain": [
              "True"
            ]
          },
          "metadata": {},
          "execution_count": 12
        }
      ]
    },
    {
      "cell_type": "markdown",
      "source": [
        "**Visualize IK marker errors**\n",
        "\n",
        "The file subject01_ik_marker_errors.sto provides the markers errors associated with each frame of the generated motion. You can parse this file using a Table Processor and visualize the error obtained per frame."
      ],
      "metadata": {
        "id": "GLp_exuTePfI"
      }
    },
    {
      "cell_type": "code",
      "source": [
        "# Use the TableProcessor to read the motion file.\n",
        "table = osim.TableProcessor(\"subject01_ik_marker_errors.sto\")\n",
        "# Process the file.\n",
        "tableTime = table.process()\n",
        "# Print labels for each column.\n",
        "print(tableTime.getColumnLabels())"
      ],
      "metadata": {
        "colab": {
          "base_uri": "https://localhost:8080/"
        },
        "id": "aiBr4M-wxrRP",
        "outputId": "a2aff671-e1e4-4e01-a349-ad3067f6f57e"
      },
      "execution_count": null,
      "outputs": [
        {
          "output_type": "stream",
          "name": "stdout",
          "text": [
            "('total_squared_error', 'marker_error_RMS', 'marker_error_max')\n"
          ]
        }
      ]
    },
    {
      "cell_type": "markdown",
      "source": [
        "We will plot te total squared error, the RMS error for the markers, and the maximum error for the markers. In the next cell you will extract this information from the motion file.\n"
      ],
      "metadata": {
        "id": "-Ov2v2k9x5oe"
      }
    },
    {
      "cell_type": "code",
      "source": [
        "# Get columns we want to represent, and the independent column (Time).\n",
        "total_squared_error = tableTime.getDependentColumn('total_squared_error')\n",
        "marker_error_RMS = tableTime.getDependentColumn('marker_error_RMS')\n",
        "marker_error_max = tableTime.getDependentColumn('marker_error_max')\n",
        "x_time = tableTime.getIndependentColumn()"
      ],
      "metadata": {
        "id": "Xhnx_ulsx6CS"
      },
      "execution_count": null,
      "outputs": []
    },
    {
      "cell_type": "markdown",
      "source": [
        "Now, we can use this information to visually observe the error."
      ],
      "metadata": {
        "id": "WfpRt8xMjhy3"
      }
    },
    {
      "cell_type": "code",
      "source": [
        "import seaborn as sns\n",
        "import matplotlib.pyplot as plt\n",
        "import numpy as np\n",
        "\n",
        "sns.set()\n",
        "sns.lineplot(x=x_time, y=total_squared_error.to_numpy(), label='total_squared_error')\n",
        "sns.lineplot(x=x_time, y=marker_error_RMS.to_numpy(), label='marker_error_RMS')\n",
        "sns.lineplot(x=x_time, y=marker_error_max.to_numpy(), label='marker_error_max').set(title='Markers Error per Frame', xlabel='Frame Numer', ylabel='Error');"
      ],
      "metadata": {
        "colab": {
          "base_uri": "https://localhost:8080/",
          "height": 301
        },
        "id": "4ucc9Fu0jopB",
        "outputId": "c8bc8630-e4b4-4319-b311-22ee120bcc93"
      },
      "execution_count": null,
      "outputs": [
        {
          "output_type": "display_data",
          "data": {
            "text/plain": [
              "<Figure size 432x288 with 1 Axes>"
            ],
            "image/png": "[encoded data removed]"
          },
          "metadata": {}
        }
      ]
    },
    {
      "cell_type": "markdown",
      "source": [
        "5. What is the root-mean-squared (RMS) error of all the markers in the last frame of the motion? Include units. Does this seem reasonable? Explain.\n",
        "\n",
        "6. What was the value of the maximum marker error in the last frame? Include units. Which marker had this maximum error, and why?\n",
        "Hint: Think about the weighted least squares problem."
      ],
      "metadata": {
        "id": "Oa7-QlzImfut"
      }
    },
    {
      "cell_type": "markdown",
      "source": [
        "## 5.5. Inverse Dynamics"
      ],
      "metadata": {
        "id": "SzMh1MS8QazO"
      }
    },
    {
      "cell_type": "markdown",
      "source": [
        "Dynamics is the study of motion and the forces and moments that produce that motion [4]. To perform inverse dynamics, estimation of mass and inertia is required. The purpose of inverse dynamics is to estimate the forces and moments that cause a particular motion, and its results can be used to infer how muscles are utilized in that motion. To determine these forces and moments, equations of motion for the system are solved iteratively [[5]](https://doi.org/10.1115/1.2834295). The equations of motion are derived using the kinematic description and mass properties of a musculoskeletal model. Then, using the joint angles from inverse kinematics and experimental ground reaction force data, the net reaction forces and net moments at each of the joints are calculated such that the dynamic equilibrium conditions and boundary conditions are satisfied [[5]](https://doi.org/10.1115/1.2834295).  "
      ],
      "metadata": {
        "id": "QL2BMH6tQiVV"
      }
    },
    {
      "cell_type": "markdown",
      "source": [
        "A detailed explanation of the Inverse Dynamics Tool can be found on the [Inverse Dynamics page](https://simtk-confluence.stanford.edu:8443/display/OpenSim/Inverse+Dynamics) of the documentation."
      ],
      "metadata": {
        "id": "cR5SdHfdYH30"
      }
    },
    {
      "cell_type": "markdown",
      "source": [
        "**Download the files**\n",
        "\n",
        "First, let's download the configuration file (subject01_Setup_InverseDynamics.xml) for the Inverse Dynamics tool."
      ],
      "metadata": {
        "id": "wnJUuAW8RGpe"
      }
    },
    {
      "cell_type": "code",
      "source": [
        "!gdown 1aZJmbykxdTrC_Uo9oDO_9xgfTUmLzjpI"
      ],
      "metadata": {
        "colab": {
          "base_uri": "https://localhost:8080/"
        },
        "id": "SDK4_QCkk0vo",
        "outputId": "fe8628cf-9d8e-4446-e022-133b77158ba8"
      },
      "execution_count": null,
      "outputs": [
        {
          "output_type": "stream",
          "name": "stdout",
          "text": [
            "Downloading...\n",
            "From: https://drive.google.com/uc?id=1aZJmbykxdTrC_Uo9oDO_9xgfTUmLzjpI\n",
            "To: /content/subject01_Setup_InverseDynamics.xml\n",
            "\r  0% 0.00/1.65k [00:00<?, ?B/s]\r100% 1.65k/1.65k [00:00<00:00, 2.62MB/s]\n"
          ]
        }
      ]
    },
    {
      "cell_type": "markdown",
      "source": [
        "The second file is a external loads file (subject01_walk1_grf.xml), that contains the external loads applied to the model."
      ],
      "metadata": {
        "id": "XlRizvvXrXtQ"
      }
    },
    {
      "cell_type": "code",
      "source": [
        "!gdown 14aOk5udB8pgafettraCZgv3ULnAWzvyI"
      ],
      "metadata": {
        "colab": {
          "base_uri": "https://localhost:8080/"
        },
        "id": "a3Ym-2KglEey",
        "outputId": "78a143e8-adb2-4ee3-e16b-92c8b71d99af"
      },
      "execution_count": null,
      "outputs": [
        {
          "output_type": "stream",
          "name": "stdout",
          "text": [
            "Downloading...\n",
            "From: https://drive.google.com/uc?id=14aOk5udB8pgafettraCZgv3ULnAWzvyI\n",
            "To: /content/subject01_walk1_grf.xml\n",
            "\r  0% 0.00/2.56k [00:00<?, ?B/s]\r100% 2.56k/2.56k [00:00<00:00, 4.44MB/s]\n"
          ]
        }
      ]
    },
    {
      "cell_type": "markdown",
      "source": [
        "The third file is a coordinates file (subject01_walk1_grf.mot), containing coordinate data."
      ],
      "metadata": {
        "id": "ePpe9dGXr_II"
      }
    },
    {
      "cell_type": "code",
      "source": [
        "!gdown 1m0PTgw8K1dW0koHhgn6Wfci0498JsGF-"
      ],
      "metadata": {
        "colab": {
          "base_uri": "https://localhost:8080/"
        },
        "id": "IoYI-ik3lUsq",
        "outputId": "3ffd2dd1-24c3-4f90-c13b-02c4fa4c8cf2"
      },
      "execution_count": null,
      "outputs": [
        {
          "output_type": "stream",
          "name": "stdout",
          "text": [
            "Downloading...\n",
            "From: https://drive.google.com/uc?id=1m0PTgw8K1dW0koHhgn6Wfci0498JsGF-\n",
            "To: /content/subject01_walk1_grf.mot\n",
            "\r  0% 0.00/224k [00:00<?, ?B/s]\r100% 224k/224k [00:00<00:00, 104MB/s]\n"
          ]
        }
      ]
    },
    {
      "cell_type": "markdown",
      "source": [
        "**Create ID Tool**\n",
        "\n",
        "The IK Tool allows to apply Inverse Dynamics to a model. We can pass a configuration file as a parameter, so all of the information is already available."
      ],
      "metadata": {
        "id": "oHeUXkItSy6D"
      }
    },
    {
      "cell_type": "code",
      "source": [
        "# Create a ScaleTool object using the configuration file.\n",
        "inverse_dynamics_tool = osim.InverseDynamicsTool('subject01_Setup_InverseDynamics.xml')\n",
        "\n",
        "# Print some information of the config file to test everything is correct.\n",
        "print(\"Name:\", inverse_dynamics_tool.getName())\n",
        "print(\"Model File:\", inverse_dynamics_tool.getModelFileName())\n",
        "print(\"External Loads File:\", inverse_dynamics_tool.getExternalLoadsFileName())\n",
        "print(\"Coordinates File:\", inverse_dynamics_tool.getCoordinatesFileName())\n",
        "print(\"Time Range: [\", inverse_dynamics_tool.getStartTime(), \",\", inverse_dynamics_tool.getEndTime(), \"]\")\n",
        "print(\"Lowpass Cutoff Frecuency:\", inverse_dynamics_tool.getLowpassCutoffFrequency())\n",
        "print()"
      ],
      "metadata": {
        "colab": {
          "base_uri": "https://localhost:8080/"
        },
        "outputId": "4f1471ad-a6e9-4656-dd1c-cd20f88fdfb9",
        "id": "r17DfremSy6E"
      },
      "execution_count": null,
      "outputs": [
        {
          "output_type": "stream",
          "name": "stdout",
          "text": [
            "Name: subject01_walk1\n",
            "Model File: subject01_simbody.osim\n",
            "External Loads File: subject01_walk1_grf.xml\n",
            "Coordinates File: subject01_walk1_ik.mot\n",
            "Time Range: [ 0.4 , 1.6 ]\n",
            "Lowpass Cutoff Frecuency: 6.0\n",
            "\n"
          ]
        }
      ]
    },
    {
      "cell_type": "markdown",
      "source": [
        "**Run Inverse Dynamics**\n",
        "\n",
        "Finally, we can run Inverse Dynamics by running the Inverse Dynamics tool. You can visualize the resulting motion file (subject01_simbody.osim) by associating it to the scaled model (subject01_walk1_ik.mot) in [OpenSim GUI](https://simtk.org/frs/index.php?group_id=91)."
      ],
      "metadata": {
        "id": "fHgMyZc2Y6JO"
      }
    },
    {
      "cell_type": "code",
      "source": [
        "inverse_dynamics_tool.run()"
      ],
      "metadata": {
        "colab": {
          "base_uri": "https://localhost:8080/"
        },
        "outputId": "c9550ac2-220d-4a0b-8a5f-71cb8afda2be",
        "id": "VF3_KRo8Y6Jk"
      },
      "execution_count": null,
      "outputs": [
        {
          "output_type": "execute_result",
          "data": {
            "text/plain": [
              "True"
            ]
          },
          "metadata": {},
          "execution_count": 20
        }
      ]
    },
    {
      "cell_type": "markdown",
      "source": [
        "**Visualize ID results**\n",
        "\n",
        "After running the Inverse Dynamics Tool, a file named inverse_dynamics.sto is generated. This file contains the results of the Inverse Dynamics execution, and you can parse it using a Table Processor to visualize the results."
      ],
      "metadata": {
        "id": "lUy_Vm8izR0f"
      }
    },
    {
      "cell_type": "code",
      "source": [
        "# Use the TableProcessor to read the motion file.\n",
        "table = osim.TableProcessor(\"ResultsInverseDynamics/inverse_dynamics.sto\")\n",
        "# Process the file.\n",
        "tableTime = table.process()\n",
        "# Print labels for each column.\n",
        "print(tableTime.getColumnLabels())"
      ],
      "metadata": {
        "colab": {
          "base_uri": "https://localhost:8080/"
        },
        "outputId": "367cedb3-2bfd-453b-b3f1-7840e94c1cab",
        "id": "07K30qNozR0z"
      },
      "execution_count": null,
      "outputs": [
        {
          "output_type": "stream",
          "name": "stdout",
          "text": [
            "('pelvis_tilt_moment', 'pelvis_list_moment', 'pelvis_rotation_moment', 'pelvis_tx_force', 'pelvis_ty_force', 'pelvis_tz_force', 'hip_flexion_r_moment', 'hip_adduction_r_moment', 'hip_rotation_r_moment', 'hip_flexion_l_moment', 'hip_adduction_l_moment', 'hip_rotation_l_moment', 'lumbar_extension_moment', 'lumbar_bending_moment', 'lumbar_rotation_moment', 'knee_angle_r_moment', 'knee_angle_l_moment', 'ankle_angle_r_moment', 'ankle_angle_l_moment', 'subtalar_angle_r_moment', 'subtalar_angle_l_moment', 'mtp_angle_r_moment', 'mtp_angle_l_moment')\n"
          ]
        }
      ]
    },
    {
      "cell_type": "markdown",
      "source": [
        "We are going to compare the moments of the knee angle of both legs, so let's extract them from the motion file."
      ],
      "metadata": {
        "id": "bd3MDg8azR0z"
      }
    },
    {
      "cell_type": "code",
      "source": [
        "# Get columns we want to represent, and the independent column (Time).\n",
        "ankle_angle_r_moment = tableTime.getDependentColumn('ankle_angle_r_moment')\n",
        "ankle_angle_l_moment = tableTime.getDependentColumn('ankle_angle_l_moment')\n",
        "x_time = tableTime.getIndependentColumn()"
      ],
      "metadata": {
        "id": "hxG43RnlzR00"
      },
      "execution_count": null,
      "outputs": []
    },
    {
      "cell_type": "markdown",
      "source": [
        "Now, we can use this information to visually observe the error."
      ],
      "metadata": {
        "id": "zLngF9DkzR00"
      }
    },
    {
      "cell_type": "code",
      "source": [
        "import seaborn as sns\n",
        "import matplotlib.pyplot as plt\n",
        "import numpy as np\n",
        "\n",
        "sns.set()\n",
        "sns.lineplot(x=x_time, y=ankle_angle_r_moment.to_numpy(), label='ankle_angle_r_moment')\n",
        "sns.lineplot(x=x_time, y=ankle_angle_l_moment.to_numpy(), label='ankle_angle_l_moment').set(title='Ankle Angle Moment Comparison', xlabel='Time', ylabel='Moment');"
      ],
      "metadata": {
        "colab": {
          "base_uri": "https://localhost:8080/",
          "height": 301
        },
        "outputId": "f92798db-fe78-41f6-e3b3-4b2db58fc311",
        "id": "IffV9ER_zR00"
      },
      "execution_count": null,
      "outputs": [
        {
          "output_type": "display_data",
          "data": {
            "text/plain": [
              "<Figure size 432x288 with 1 Axes>"
            ],
            "image/png": "[encoded data removed]"
          },
          "metadata": {}
        }
      ]
    },
    {
      "cell_type": "markdown",
      "source": [
        "7. On your plot of the ankle moments, identify when heel strike, stance phase, toe off, and swing phase occur for each curve (i.e., left leg and right leg)."
      ],
      "metadata": {
        "id": "cC88pJIY3TLV"
      }
    },
    {
      "cell_type": "markdown",
      "source": [
        "8. Based on your plot and the angle convention for the ankle, give an explanation of what is happening at the ankle just before toe-off.\n",
        "Hint: It may be useful to use the Coordinate sliders to understand the angle convention for the ankle."
      ],
      "metadata": {
        "id": "BLKse9bp3W7R"
      }
    },
    {
      "cell_type": "markdown",
      "source": [
        "In solving the inverse dynamics problem, both kinematic data and force plate data were used, making this an over-determined problem. In other words, the problem has more equations than unknowns (i.e., degrees of freedom). Due to errors in the experimental motion data and inaccuracies in the musculoskeletal model, it turns out that Newton's second law is violated, or $\\overrightarrow{F}_{exp} \\neq m * \\overrightarrow{a}$ [[5]](https://doi.org/10.1115/1.2834295). One method to handle this inconsistency is to compute and apply residual forces and moments to a particular body segment in the model, such that Newton's second law becomes:"
      ],
      "metadata": {
        "id": "cHOJv4Mg1W_U"
      }
    },
    {
      "cell_type": "markdown",
      "source": [
        "$\\overrightarrow{F}_{exp} + \\overrightarrow{F}_{residual} = m * \\overrightarrow{a} ^†$"
      ],
      "metadata": {
        "id": "ZFsf78-5t2L6"
      }
    },
    {
      "cell_type": "markdown",
      "source": [
        "$†$ An analogous equation relates the ground reaction moment, $\\overrightarrow{M}_{exp}$ to the residual moment, $\\overrightarrow{M}_{residual}$."
      ],
      "metadata": {
        "id": "gFZfIUMp28Sx"
      }
    },
    {
      "cell_type": "markdown",
      "source": [
        "In this musculoskeletal model, the residuals are applied to the pelvis segment. To see the residuals from the inverse dynamics solution, plot `pelvis_tx_force`, `pelvis_ty_force`, and `pelvis_tz_force` versus `time`. Using this plot, answer question 9."
      ],
      "metadata": {
        "id": "XdW9OdIA3MuC"
      }
    },
    {
      "cell_type": "code",
      "source": [
        "# Get columns we want to represent, and the independent column (Time).\n",
        "pelvis_tx_force = tableTime.getDependentColumn('pelvis_tx_force')\n",
        "pelvis_ty_force = tableTime.getDependentColumn('pelvis_ty_force')\n",
        "pelvis_tz_force = tableTime.getDependentColumn('pelvis_tz_force')\n",
        "x_time = tableTime.getIndependentColumn()\n",
        "\n",
        "# Plot extracted values.\n",
        "import seaborn as sns\n",
        "import matplotlib.pyplot as plt\n",
        "import numpy as np\n",
        "\n",
        "sns.set()\n",
        "sns.lineplot(x=x_time, y=pelvis_tx_force.to_numpy(), label='pelvis_tx_force')\n",
        "sns.lineplot(x=x_time, y=pelvis_ty_force.to_numpy(), label='pelvis_ty_force')\n",
        "sns.lineplot(x=x_time, y=pelvis_tz_force.to_numpy(), label='pelvis_tz_force').set(title='Pelvis Force Residuals', xlabel='Time', ylabel='Force');"
      ],
      "metadata": {
        "colab": {
          "base_uri": "https://localhost:8080/",
          "height": 301
        },
        "id": "QA41UjZl3b2x",
        "outputId": "76b20ff0-c00b-4e5b-8e56-1a43daa4fccf"
      },
      "execution_count": null,
      "outputs": [
        {
          "output_type": "display_data",
          "data": {
            "text/plain": [
              "<Figure size 432x288 with 1 Axes>"
            ],
            "image/png": "[encoded data removed]"
          },
          "metadata": {}
        }
      ]
    },
    {
      "cell_type": "markdown",
      "source": [
        "9. What are the maximum magnitudes of the residual forces? Using the mass of the subject from Question 1, what fraction of body weight are the maximum residual forces?"
      ],
      "metadata": {
        "id": "nquFUQIA4E-2"
      }
    },
    {
      "cell_type": "markdown",
      "source": [
        "While applying residual forces and moments makes the model's motion dynamically consistent with the external forces, this strategy is undesirable because the residuals can be large. More advanced strategies have been developed to deal with the problem of residuals and dynamic inconsistencies, such as least-squares optimization [[5]](https://doi.org/10.1115/1.2834295), the Residual Elimination Algorithm (REA) [[6]](https://doi.org/10.1016/j.jbiomech.2005.02.010), and the Residual Reduction Algorithm (RRA) [[7]](https://citeseerx.ist.psu.edu/viewdoc/download?doi=10.1.1.91.818&rep=rep1&type=pdf#page=31). OpenSim implements a Residual Reduction Algorithm as part of its workflow for generating muscle-actuated simulations [[7]](https://citeseerx.ist.psu.edu/viewdoc/download?doi=10.1.1.91.818&rep=rep1&type=pdf#page=31). A detailed explanation of the Residual Reduction Algorithm (RRA) can be found on the Residual Reduction Algorithm page of the documentation. For additional information on these strategies, please also see [[1]](https://doi.org/10.1080/10255842.2011.627560), [[5]](https://doi.org/10.1115/1.2834295), [[6]](https://doi.org/10.1016/j.jbiomech.2005.02.010) and [[7]](https://citeseerx.ist.psu.edu/viewdoc/download?doi=10.1.1.91.818&rep=rep1&type=pdf#page=31)."
      ],
      "metadata": {
        "id": "acVEWzHi8nRE"
      }
    },
    {
      "cell_type": "markdown",
      "source": [
        "## 5.6. Conclusion"
      ],
      "metadata": {
        "id": "i7rhPT2id6gg"
      }
    },
    {
      "cell_type": "markdown",
      "source": [
        "In this tutorial you have Scaled a musculoskeletal model, and then performed an Inverse Kinematics analysis and an Inverse Dynamics analysis to it. Then you have explored the results of the two analyses."
      ],
      "metadata": {
        "id": "1XK9UgItWQMF"
      }
    },
    {
      "cell_type": "markdown",
      "source": [
        "## 5.7. Acknowledgements"
      ],
      "metadata": {
        "id": "TmKy5teg9NSt"
      }
    },
    {
      "cell_type": "markdown",
      "source": [
        "The experimental gait data were collected by Jill Higginson and Chand John in the Neuromuscular Biomechanics Lab at the University of Delaware [[8]](https://doi.org/10.1080/10255842.2011.627560). The data include marker trajectories and ground reaction forces for an adult male walking at a self-selected speed on an instrumented split-belt treadmill. Please note that the data distributed with OpenSim is from a different subject than the one described in the paper. Data collection protocols were the same for both subjects."
      ],
      "metadata": {
        "id": "8P9cgECE9Rgj"
      }
    },
    {
      "cell_type": "markdown",
      "source": [
        "## 5.8. Useful Links\n",
        "\n",
        "\n",
        "\n"
      ],
      "metadata": {
        "id": "lLWgd8Noun6Y"
      }
    },
    {
      "cell_type": "markdown",
      "source": [
        "> **OpenSim Website:** https://opensim.stanford.edu/\n",
        ">\n",
        "> **OpenSim API Documentation:** https://simtk.org/api_docs/opensim/api_docs/\n",
        "> \n",
        "> **OpenSim Creator Website:** https://opensimcreator.com/\n",
        "> \n",
        "> **SimTK Website:** https://simtk.org/projects/opensim\n",
        "> \n",
        "> **Biomecanics of Movement's Course:** https://www.youtube.com/channel/UCDNGy0KKNLQ-ztcL5h2Z6zA"
      ],
      "metadata": {
        "id": "m8M3dlT5xQcD"
      }
    },
    {
      "cell_type": "markdown",
      "source": [
        "## 5.9. References"
      ],
      "metadata": {
        "id": "2rwqw1LFq6Lz"
      }
    },
    {
      "cell_type": "markdown",
      "source": [
        "\n",
        "> [1].   Delp, S. L., Anderson, F. C., Arnold, A. S., Loan, P., Habib, A., John, C. T., Guendelman, E., & Thelen, D. G. (2007). **OpenSim: open-source software to create and analyze dynamic simulations of movement.** *IEEE Transactions on Bio-Medical Engineering*, 54(11), 1940–1950. https://doi.org/10.1109/TBME.2007.901024\n",
        "> \n",
        "> [2].   Delp, S. L., Loan, J. P., Hoy, M. G., Zajac, F. E., Topp, E. L., & Rosen, J. M. (1990). **An interactive graphics-based model of the lower extremity to study orthopaedic surgical procedures.** *IEEE Transactions on Bio-Medical Engineering*, 37(8), 757–767. https://doi.org/10.1109/10.102791\n",
        ">\n",
        "> [3]. Anderson, F. C., & Pandy, M. G. (1999). **A dynamic optimization solution for vertical jumping in three dimensions.** *Computer Methods in Biomechanics and Biomedical Engineering*, 2(3), 201–231. https://doi.org/10.1080/10255849908907988\n",
        ">\n",
        "> [4]. Winter, D. A. (1990). **The biomechanics and motor control of human movement** (2a ed.). *John Wiley & Sons*.\n",
        ">\n",
        "> [5]. Kuo, A. D. (1998). **A least-squares estimation approach to improving the precision of inverse dynamics computations.** *Journal of Biomechanical Engineering*, 120(1), 148–159. https://doi.org/10.1115/1.2834295\n",
        ">\n",
        "> [6]. Thelen, D. G., & Anderson, F. C. (2006). **Using computed muscle control to generate forward dynamic simulations of human walking from experimental data.** *Journal of Biomechanics*, 39(6), 1107–1115. https://doi.org/10.1016/j.jbiomech.2005.02.010\n",
        ">\n",
        "> [7]. John, C.T., Anderson, F.C., Guendelman, E., Arnold, A.S., Delp, S.L. (21st October 2006). **An algorithm for generating muscle-actuated simulations of long-duration movements.** *Biomedical Computation at Stanford (BCATS) Symposium*, Stanford University, Poster Presentation. https://citeseerx.ist.psu.edu/viewdoc/download?doi=10.1.1.91.818&rep=rep1&type=pdf#page=31\n",
        ">\n",
        "> [8]. John, C. T., Anderson, F. C., Higginson, J. S., & Delp, S. L. (2013). **Stabilisation of walking by intrinsic muscle properties revealed in a three-dimensional muscle-driven simulation.** *Computer Methods in Biomechanics and Biomedical Engineering*, 16(4), 451–462. https://doi.org/10.1080/10255842.2011.627560"
      ],
      "metadata": {
        "id": "TpbyAlHvfh8M"
      }
    }
  ]
}